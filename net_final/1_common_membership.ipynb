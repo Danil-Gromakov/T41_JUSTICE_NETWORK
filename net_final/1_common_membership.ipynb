{
 "cells": [
  {
   "cell_type": "markdown",
   "metadata": {},
   "source": [
    "### 1. officials that share common membership in groups like federalist society and heritage foundation"
   ]
  },
  {
   "cell_type": "code",
   "execution_count": 1,
   "metadata": {},
   "outputs": [],
   "source": [
    "import csv\n",
    "import networkx as nx\n",
    "import collections\n",
    "\n",
    "# Undirected or Directed graph\n",
    "\n",
    "#G = nx.Graph()\n",
    "G = nx.DiGraph() "
   ]
  },
  {
   "cell_type": "code",
   "execution_count": 2,
   "metadata": {},
   "outputs": [],
   "source": [
    "# Add Nodes Persone\n",
    "\n",
    "# used data > all_noemploy.csv\n",
    "\n",
    "with open('all_noemploy.csv', newline='') as csvfile:\n",
    "    reader = csv.DictReader(csvfile)\n",
    "    \n",
    "\n",
    "    #american_center_for_law_and_justice\tchristian_legal_society_bar_association\tfederalist_society\theritage_foundation\tnational_rifle_association_tie\trepublican_national_lawyers_association_tie\n",
    "    \n",
    "    # add nodes with atributes from table\n",
    "    id = 0\n",
    "    for row in reader:\n",
    "        G.add_node(id,\n",
    "                   type = row['source'],\n",
    "                   person = row['person'],\n",
    "                   name = row['person'],\n",
    "                   position_current = row['position_current'],\n",
    "                   law = row['law'],\n",
    "                   law_conservative_score = row['law_conservative_score'],\n",
    "                   law_rank = row['law_rank'],\n",
    "                   political_affiliation = row['political_affiliation'],\n",
    "                  \n",
    "                   #value of memberships\n",
    "                   american_center_for_law_and_justice = row['american_center_for_law_and_justice'],\n",
    "                   christian_legal_society_bar_association = row['christian_legal_society_bar_association'],\n",
    "                   federalist_society = row['federalist_society'],\n",
    "                   heritage_foundation = row['heritage_foundation'],\n",
    "                   national_rifle_association_tie = row['national_rifle_association_tie'],\n",
    "                   republican_national_lawyers_association_tie = row['republican_national_lawyers_association_tie']\n",
    "                  )\n",
    "        \n",
    "        id+=1"
   ]
  },
  {
   "cell_type": "code",
   "execution_count": 3,
   "metadata": {},
   "outputs": [],
   "source": [
    "#add nodes organisation\n",
    "\n",
    "listOrganisations = ['american_center_for_law_and_justice',\n",
    "                     'christian_legal_society_bar_association',\n",
    "                     'federalist_society',\n",
    "                     'heritage_foundation',\n",
    "                     'national_rifle_association_tie',\n",
    "                     'republican_national_lawyers_association_tie']\n",
    "\n",
    "id=300\n",
    "for org in listOrganisations:\n",
    "    G.add_node(id,name = org,org_name = org, type='org')\n",
    "    id +=1"
   ]
  },
  {
   "cell_type": "code",
   "execution_count": 4,
   "metadata": {},
   "outputs": [
    {
     "name": "stdout",
     "output_type": "stream",
     "text": [
      "(300, {'name': 'american_center_for_law_and_justice', 'org_name': 'american_center_for_law_and_justice', 'type': 'org'})\n",
      "(301, {'name': 'christian_legal_society_bar_association', 'org_name': 'christian_legal_society_bar_association', 'type': 'org'})\n",
      "(302, {'name': 'federalist_society', 'org_name': 'federalist_society', 'type': 'org'})\n",
      "(303, {'name': 'heritage_foundation', 'org_name': 'heritage_foundation', 'type': 'org'})\n",
      "(304, {'name': 'national_rifle_association_tie', 'org_name': 'national_rifle_association_tie', 'type': 'org'})\n",
      "(305, {'name': 'republican_national_lawyers_association_tie', 'org_name': 'republican_national_lawyers_association_tie', 'type': 'org'})\n"
     ]
    }
   ],
   "source": [
    "#check optional\n",
    "for node in G.nodes.data():\n",
    "    if node[1]['type'] == 'org':\n",
    "        print(node)"
   ]
  },
  {
   "cell_type": "code",
   "execution_count": 5,
   "metadata": {},
   "outputs": [],
   "source": [
    "#add edges between persones & org\n",
    "\n",
    "for node in G.nodes.data():\n",
    "    if node[1]['type'] == 'prosecutor':\n",
    "        \n",
    "        if node[1]['american_center_for_law_and_justice'] != 'NA':\n",
    "            G.add_edge(node[0],300)\n",
    "        if node[1]['christian_legal_society_bar_association'] != 'NA':\n",
    "            G.add_edge(node[0],301)\n",
    "        if node[1]['federalist_society'] != 'NA':\n",
    "            G.add_edge(node[0],302)\n",
    "        if node[1]['heritage_foundation'] != 'NA':\n",
    "            G.add_edge(node[0],303)\n",
    "        if node[1]['national_rifle_association_tie'] != 'NA':\n",
    "            G.add_edge(node[0],304)\n",
    "        if node[1]['republican_national_lawyers_association_tie'] != 'NA':\n",
    "            G.add_edge(node[0],305)\n",
    "            \n",
    "          \n"
   ]
  },
  {
   "cell_type": "code",
   "execution_count": 6,
   "metadata": {},
   "outputs": [
    {
     "data": {
      "text/plain": [
       "OutEdgeView([(6, 300), (6, 302), (6, 304), (8, 302), (10, 302), (14, 302), (14, 303), (17, 302), (20, 302), (21, 302), (22, 302), (29, 302), (30, 302), (37, 302), (38, 302), (42, 302), (42, 305), (51, 304), (52, 302), (55, 302), (56, 302), (60, 302), (64, 304), (67, 302), (69, 304), (70, 302), (71, 301), (71, 302), (72, 302), (75, 302), (76, 302), (76, 305), (81, 302)])"
      ]
     },
     "execution_count": 6,
     "metadata": {},
     "output_type": "execute_result"
    }
   ],
   "source": [
    "#check optional\n",
    "G.edges"
   ]
  },
  {
   "cell_type": "code",
   "execution_count": 7,
   "metadata": {},
   "outputs": [],
   "source": [
    "#Analise for predecessors  add to every node value 'predecessors'\n",
    "for node in G.nodes.data():\n",
    "    G.nodes[node[0]]['predecessors'] = len(list(G.predecessors(node[0])))"
   ]
  },
  {
   "cell_type": "code",
   "execution_count": 8,
   "metadata": {
    "scrolled": false
   },
   "outputs": [
    {
     "data": {
      "image/png": "[encoded data removed]",
      "text/plain": [
       "<Figure size 432x288 with 1 Axes>"
      ]
     },
     "metadata": {},
     "output_type": "display_data"
    }
   ],
   "source": [
    "#check net\n",
    "pos=nx.spring_layout(G)\n",
    "nx.draw_networkx(G,pos,with_labels=False)"
   ]
  },
  {
   "cell_type": "code",
   "execution_count": 9,
   "metadata": {},
   "outputs": [],
   "source": [
    "#convert net for Gephi\n",
    "nx.write_gexf(G, \"1_common_membership.gexf\")"
   ]
  }
 ],
 "metadata": {
  "kernelspec": {
   "display_name": "Python 3",
   "language": "python",
   "name": "python3"
  },
  "language_info": {
   "codemirror_mode": {
    "name": "ipython",
    "version": 3
   },
   "file_extension": ".py",
   "mimetype": "text/x-python",
   "name": "python",
   "nbconvert_exporter": "python",
   "pygments_lexer": "ipython3",
   "version": "3.6.9"
  }
 },
 "nbformat": 4,
 "nbformat_minor": 4
}
