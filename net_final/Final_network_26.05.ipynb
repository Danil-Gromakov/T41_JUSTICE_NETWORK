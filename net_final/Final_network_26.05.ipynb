{
 "cells": [
  {
   "cell_type": "markdown",
   "metadata": {},
   "source": [
    "## ProTrump net"
   ]
  },
  {
   "cell_type": "code",
   "execution_count": 1,
   "metadata": {},
   "outputs": [],
   "source": [
    "import csv\n",
    "import networkx as nx\n",
    "import collections\n",
    "\n",
    "#G = nx.Graph()\n",
    "G = nx.DiGraph() "
   ]
  },
  {
   "cell_type": "code",
   "execution_count": 2,
   "metadata": {},
   "outputs": [],
   "source": [
    "# Add Nodes Persone\n",
    "\n",
    "# all_noemploy.csv\n",
    "\n",
    "protectFromDublicat = list()\n",
    "with open('all_noemploy.csv', newline='') as csvfile:\n",
    "    reader = csv.DictReader(csvfile)\n",
    "\n",
    "    # add nodes\n",
    "    for row in reader:\n",
    "        if row['person'] not in protectFromDublicat:\n",
    "            protectFromDublicat.append(row['person'])\n",
    "            \n",
    "            G.add_node(row['id'],\n",
    "                person = row['person'],\n",
    "                position_current = row['position_current'],\n",
    "                source = row['source'],\n",
    "                date_of_appointment = row['date_of_appointment'],\n",
    "                date_of_birth = row['date_of_birth'],\n",
    "                age = row['age'],\n",
    "                birthplace = row['birthplace'],\n",
    "                sex = row['sex'],\n",
    "                bachelors = row['bachelors'],\n",
    "                masters = row['masters'],\n",
    "                doctorate = row['doctorate'],\n",
    "                law = row['law'],\n",
    "                law_conservative_score = row['law_conservative_score'],\n",
    "                law_rank = row['law_rank'],\n",
    "                barr_appointment = row['barr_appointment'],\n",
    "                political_affiliation = row['political_affiliation'],\n",
    "                # for edges ... Pro Trump       \n",
    "                connection_trump = row['connection_trump'],\n",
    "                connection_trumpally = row['connection_trumpally'],\n",
    "                connection_conservativeagenda = row['connection_conservativeagenda'],\n",
    "                # for edges ...        \n",
    "                connection_careerprofessional = row['connection_careerprofessional'],\n",
    "                connection_other = row['connection_other'],\n",
    "                american_center_for_law_and_justice = row['american_center_for_law_and_justice'],\n",
    "                christian_legal_society_bar_association = row['christian_legal_society_bar_association'],\n",
    "                federalist_society = row['federalist_society'],\n",
    "                heritage_foundation = row['heritage_foundation'],\n",
    "                national_rifle_association_tie = row['national_rifle_association_tie'],\n",
    "                republican_national_lawyers_association_tie = row['republican_national_lawyers_association_tie']\n",
    "                      )\n",
    "           \n",
    "        "
   ]
  },
  {
   "cell_type": "code",
   "execution_count": 3,
   "metadata": {},
   "outputs": [],
   "source": [
    "# nodes pro trump\n",
    "ProTrumpList = ['connection_trump',\n",
    "                'connection_trumpally',\n",
    "                'connection_conservativeagenda']\n",
    "\n",
    "id = 500\n",
    "for node in ProTrumpList:\n",
    "    G.add_node(id,nameTrump = node)\n",
    "    id +=1\n",
    "\n",
    "# add nodes organisations "
   ]
  },
  {
   "cell_type": "code",
   "execution_count": 4,
   "metadata": {},
   "outputs": [
    {
     "name": "stdout",
     "output_type": "stream",
     "text": [
      "(500, {'nameTrump': 'connection_trump'})\n",
      "(501, {'nameTrump': 'connection_trumpally'})\n",
      "(502, {'nameTrump': 'connection_conservativeagenda'})\n"
     ]
    }
   ],
   "source": [
    "for node in G.nodes.data():\n",
    "    if int(node[0]) >= 500:\n",
    "        print(node)"
   ]
  },
  {
   "cell_type": "code",
   "execution_count": 5,
   "metadata": {},
   "outputs": [],
   "source": [
    "# add color law rank\n",
    "for node in G.nodes.data():\n",
    "    if int(node[0]) < 500 and node[1]['law_rank'] != 'NA': \n",
    "        if int(node[1]['law_rank']) in range(0,51):\n",
    "            G.nodes[node[0]]['color_law_rank'] = 'green'\n",
    "        if int(node[1]['law_rank']) in range(51,101):\n",
    "            G.nodes[node[0]]['color_law_rank'] = 'yellow'\n",
    "        if int(node[1]['law_rank']) in range(101,201):\n",
    "            G.nodes[node[0]]['color_law_rank'] = 'red'\n"
   ]
  },
  {
   "cell_type": "code",
   "execution_count": 6,
   "metadata": {},
   "outputs": [],
   "source": [
    "# add short NAME to DOJ and prosecutor\n",
    "for node in G.nodes.data():\n",
    "    if int(node[0]) < 500: \n",
    "        if node[1]['source'] == 'prosecutor':\n",
    "            G.nodes[node[0]]['short_source'] = 'P'\n",
    "        if node[1]['source'] == 'justicedept':\n",
    "            G.nodes[node[0]]['short_source'] = 'J'\n"
   ]
  },
  {
   "cell_type": "code",
   "execution_count": 7,
   "metadata": {},
   "outputs": [],
   "source": [
    "#add edges to Pro trump \n",
    "for node in G.nodes.data():\n",
    "    if int(node[0]) < 500: \n",
    "        #print(node[0],node[1]['person'],node[1]['connection_trump'])\n",
    "        if node[1]['connection_trump'] == '1':\n",
    "            G.add_edge(node[0],500)\n",
    "        if node[1]['connection_trumpally'] == '1':\n",
    "            G.add_edge(node[0],501)\n",
    "        if node[1]['connection_conservativeagenda'] == '1':\n",
    "            G.add_edge(node[0],502)"
   ]
  },
  {
   "cell_type": "code",
   "execution_count": 8,
   "metadata": {},
   "outputs": [],
   "source": [
    "#Analise for in_degree \n",
    "for node in G.nodes.data():\n",
    "    G.nodes[node[0]]['predecessors'] = len(list(G.predecessors(node[0])))"
   ]
  },
  {
   "cell_type": "code",
   "execution_count": 9,
   "metadata": {},
   "outputs": [
    {
     "data": {
      "image/png": "[encoded data removed]",
      "text/plain": [
       "<Figure size 432x288 with 1 Axes>"
      ]
     },
     "metadata": {},
     "output_type": "display_data"
    }
   ],
   "source": [
    "#check net\n",
    "pos=nx.spring_layout(G)\n",
    "nx.draw_networkx(G,pos,with_labels=False)"
   ]
  },
  {
   "cell_type": "code",
   "execution_count": 10,
   "metadata": {},
   "outputs": [],
   "source": [
    "nx.write_gexf(G, \"ProTrump_net.gexf\")"
   ]
  }
 ],
 "metadata": {
  "kernelspec": {
   "display_name": "Python 3",
   "language": "python",
   "name": "python3"
  },
  "language_info": {
   "codemirror_mode": {
    "name": "ipython",
    "version": 3
   },
   "file_extension": ".py",
   "mimetype": "text/x-python",
   "name": "python",
   "nbconvert_exporter": "python",
   "pygments_lexer": "ipython3",
   "version": "3.6.9"
  }
 },
 "nbformat": 4,
 "nbformat_minor": 4
}
