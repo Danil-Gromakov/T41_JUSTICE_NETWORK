{
 "cells": [
  {
   "cell_type": "markdown",
   "metadata": {},
   "source": [
    "### 2. the bias towards lower ranking, but conservative leaning law school graduates"
   ]
  },
  {
   "cell_type": "code",
   "execution_count": 1,
   "metadata": {},
   "outputs": [],
   "source": [
    "import csv\n",
    "import networkx as nx\n",
    "import collections\n",
    "\n",
    "#G = nx.Graph()\n",
    "G = nx.DiGraph() "
   ]
  },
  {
   "cell_type": "code",
   "execution_count": 2,
   "metadata": {},
   "outputs": [],
   "source": [
    "# Add Nodes Persone\n",
    "\n",
    "# all_noemploy.csv\n",
    "\n",
    "with open('all_noemploy.csv', newline='') as csvfile:\n",
    "    reader = csv.DictReader(csvfile)\n",
    "    \n",
    "\n",
    "    #american_center_for_law_and_justice\tchristian_legal_society_bar_association\tfederalist_society\theritage_foundation\tnational_rifle_association_tie\trepublican_national_lawyers_association_tie\n",
    "    \n",
    "    # add nodes\n",
    "    id = 0\n",
    "    for row in reader:\n",
    "        G.add_node(id,\n",
    "                   type = row['source'],\n",
    "                   person = row['person'],\n",
    "                   name = row['person'],\n",
    "                   position_current = row['position_current'],\n",
    "                   law = row['law'],\n",
    "                   law_conservative_score = row['law_conservative_score'],\n",
    "                   law_rank = row['law_rank'],\n",
    "                   political_affiliation = row['political_affiliation'],\n",
    "                  \n",
    "                   #value of emberships\n",
    "                   american_center_for_law_and_justice = row['american_center_for_law_and_justice'],\n",
    "                   christian_legal_society_bar_association = row['christian_legal_society_bar_association'],\n",
    "                   federalist_society = row['federalist_society'],\n",
    "                   heritage_foundation = row['heritage_foundation'],\n",
    "                   national_rifle_association_tie = row['national_rifle_association_tie'],\n",
    "                   republican_national_lawyers_association_tie = row['republican_national_lawyers_association_tie']\n",
    "                  )\n",
    "        \n",
    "        id+=1"
   ]
  },
  {
   "cell_type": "code",
   "execution_count": 3,
   "metadata": {},
   "outputs": [],
   "source": [
    "#make dict individual law schools\n",
    "\n",
    "listLaw = list()\n",
    "dictLaw = dict()\n",
    "with open('all_noemploy.csv', newline='') as csvfile:\n",
    "    reader = csv.DictReader(csvfile)\n",
    "    for row in reader:\n",
    "        if row['law'] not in listLaw:\n",
    "            #print(row['law'])\n",
    "            listLaw.append(row['law'])\n",
    "            dictLaw[row['law']] = {'law_conservative_score':row['law_conservative_score'],'law_rank':row['law_rank']}\n",
    "    \n",
    "del dictLaw['NA']"
   ]
  },
  {
   "cell_type": "code",
   "execution_count": 4,
   "metadata": {},
   "outputs": [],
   "source": [
    "# + add nodes law\n",
    "\n",
    "id = 400\n",
    "for k,v in dictLaw.items():\n",
    "        \n",
    "    G.add_node(id, name = k,name_law = k,type = 'law',\n",
    "               law_conservative_score = v['law_conservative_score'],\n",
    "               law_rank = v['law_rank'])\n",
    "\n",
    "    id +=1"
   ]
  },
  {
   "cell_type": "code",
   "execution_count": 5,
   "metadata": {},
   "outputs": [],
   "source": [
    "#add colore rank to consrvative score\n",
    "\n",
    "for node in G.nodes.data():\n",
    "    if node[1]['type'] == 'law':\n",
    "        # color conservative rank\n",
    "        if node[1]['law_conservative_score'] == 'NA':\n",
    "            G.nodes[node[0]]['color_rank'] = 'grey_NA'\n",
    "            continue\n",
    "\n",
    "        if int(node[1]['law_conservative_score']) in range(0,51):\n",
    "            G.nodes[node[0]]['color_rank'] = 'green'\n",
    "        if int(node[1]['law_conservative_score']) in range(51,101):\n",
    "            G.nodes[node[0]]['color_rank'] = 'orange'\n",
    "        if int(node[1]['law_conservative_score'])in range(101,201):\n",
    "            G.nodes[node[0]]['color_rank'] = 'red'"
   ]
  },
  {
   "cell_type": "code",
   "execution_count": 6,
   "metadata": {},
   "outputs": [],
   "source": [
    "# prepare id nodes of law for 'find_id_node()'\n",
    "# make new dictLaw with {id:name, ...}  it is equal nodes law but useful for step below \n",
    "dictLaw = dict()\n",
    "for node in G.nodes.data():\n",
    "    if node[1]['type'] == 'law':\n",
    "        \n",
    "        dictLaw[node[0]] = node[1]['name']"
   ]
  },
  {
   "cell_type": "code",
   "execution_count": 7,
   "metadata": {},
   "outputs": [],
   "source": [
    "def find_id_node(dictOfWords,SearchStr):\n",
    "    listOfKeys = [key  for (key, value) in dictOfWords.items() if value == SearchStr]\n",
    "    return listOfKeys[0]"
   ]
  },
  {
   "cell_type": "code",
   "execution_count": 8,
   "metadata": {},
   "outputs": [],
   "source": [
    "#add edges between law & prosecutors\n",
    "for node in G.nodes.data():\n",
    "    if node[1]['type'] != 'law':\n",
    "        try:\n",
    "            G.add_edge(node[0],find_id_node(dictLaw,node[1]['law']))   \n",
    "        except:\n",
    "            n = 1+1"
   ]
  },
  {
   "cell_type": "code",
   "execution_count": 9,
   "metadata": {},
   "outputs": [
    {
     "data": {
      "text/plain": [
       "OutEdgeView([(0, 400), (1, 401), (2, 402), (3, 403), (4, 404), (5, 405), (6, 406), (7, 407), (8, 408), (10, 409), (11, 410), (12, 411), (13, 412), (14, 413), (15, 414), (16, 415), (17, 416), (18, 417), (20, 402), (21, 418), (22, 419), (23, 420), (24, 421), (25, 422), (26, 423), (27, 424), (28, 422), (29, 425), (30, 426), (31, 426), (33, 427), (34, 428), (35, 429), (37, 418), (38, 430), (40, 431), (41, 432), (42, 433), (43, 422), (44, 434), (45, 407), (46, 435), (47, 436), (48, 437), (49, 438), (50, 438), (51, 439), (52, 422), (53, 440), (54, 441), (55, 442), (56, 443), (57, 444), (58, 445), (59, 445), (60, 422), (61, 439), (62, 446), (63, 447), (64, 443), (65, 448), (66, 449), (67, 450), (68, 451), (69, 452), (70, 453), (71, 414), (72, 422), (73, 454), (74, 455), (75, 456), (76, 456), (77, 457), (78, 458), (80, 429), (81, 459), (82, 460), (84, 422), (88, 422), (89, 407), (92, 461), (93, 462), (94, 422), (95, 422), (96, 463), (97, 413)])"
      ]
     },
     "execution_count": 9,
     "metadata": {},
     "output_type": "execute_result"
    }
   ],
   "source": [
    "G.edges"
   ]
  },
  {
   "cell_type": "code",
   "execution_count": 10,
   "metadata": {},
   "outputs": [],
   "source": [
    "#Analise for in_degree \n",
    "for node in G.nodes.data():\n",
    "    G.nodes[node[0]]['predecessors'] = len(list(G.predecessors(node[0])))"
   ]
  },
  {
   "cell_type": "code",
   "execution_count": 11,
   "metadata": {},
   "outputs": [
    {
     "data": {
      "image/png": "[encoded data removed]",
      "text/plain": [
       "<Figure size 432x288 with 1 Axes>"
      ]
     },
     "metadata": {},
     "output_type": "display_data"
    }
   ],
   "source": [
    "#check net\n",
    "pos=nx.spring_layout(G)\n",
    "nx.draw_networkx(G,pos,with_labels=False)"
   ]
  },
  {
   "cell_type": "code",
   "execution_count": 12,
   "metadata": {},
   "outputs": [],
   "source": [
    "#convert net for Gephi\n",
    "nx.write_gexf(G, \"2_law_school.gexf\")"
   ]
  }
 ],
 "metadata": {
  "kernelspec": {
   "display_name": "Python 3",
   "language": "python",
   "name": "python3"
  },
  "language_info": {
   "codemirror_mode": {
    "name": "ipython",
    "version": 3
   },
   "file_extension": ".py",
   "mimetype": "text/x-python",
   "name": "python",
   "nbconvert_exporter": "python",
   "pygments_lexer": "ipython3",
   "version": "3.6.9"
  }
 },
 "nbformat": 4,
 "nbformat_minor": 4
}
