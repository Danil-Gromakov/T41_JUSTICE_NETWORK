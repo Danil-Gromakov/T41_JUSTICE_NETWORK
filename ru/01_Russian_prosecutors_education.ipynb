{
 "cells": [
  {
   "cell_type": "markdown",
   "metadata": {},
   "source": [
    "##  Net Russian prosecutors' education \n",
    "#### Used Prosecutors_all.csv "
   ]
  },
  {
   "cell_type": "code",
   "execution_count": 1,
   "metadata": {},
   "outputs": [],
   "source": [
    "import csv\n",
    "import networkx as nx\n",
    "import collections\n",
    "\n",
    "#G = nx.Graph()\n",
    "G = nx.DiGraph() "
   ]
  },
  {
   "cell_type": "code",
   "execution_count": 2,
   "metadata": {},
   "outputs": [],
   "source": [
    "#add list persones\n",
    "\n",
    "# used data > Prosecutors_all.csv \n",
    "#Prosecutors_all.csv has id for every prosecutors row and rows with \" \"\n",
    "\n",
    "with open('Prosecutors_all.csv', newline='') as csvfile:\n",
    "    reader = csv.DictReader(csvfile)\n",
    "    for row in reader:\n",
    "        if row['name_eng'] != \"\":\n",
    "            #print(row['id'],row['name_eng'])\n",
    "            \n",
    "            #Prosecutors_all consist all values below \n",
    "            #I want add persone like node and add values to node to use it next\n",
    "            \n",
    "            G.add_node(row['id'],\n",
    "                       type = 'prosecutor',\n",
    "                       name_eng = row['name_eng'],\n",
    "                       office_eng= row['office_eng'],\n",
    "                       date_of_appointment = row['date_of_appointment'],\n",
    "                       gender = row['gender'],\n",
    "                       age = row['age'],\n",
    "                       birth_place_region_eng = row['birth_place_region_eng'],\n",
    "                       birth_place_location_eng = row['birth_place_location_eng'],\n",
    "                       \n",
    "                       # university\n",
    "                       university_eng = row['university_eng'],\n",
    "                       grad_year = row['grad_year'],\n",
    "                       ed_level_eng = row['ed_level_eng'],\n",
    "                       # ========\n",
    "                       \n",
    "                       staff_income = row['staff_income'],\n",
    "                       spouse_income  = row['spouse_income'],\n",
    "                       image = row['image'])"
   ]
  },
  {
   "cell_type": "code",
   "execution_count": 3,
   "metadata": {},
   "outputs": [],
   "source": [
    "# Add else nodes education to use these university with prosecutors\n",
    "# make nodes universities \n",
    "\n",
    "#prepare listEducation\n",
    "listUniversity = list()\n",
    "\n",
    "with open('Prosecutors_all.csv', newline='') as csvfile:\n",
    "    reader = csv.DictReader(csvfile)\n",
    "    for row in reader:\n",
    "        if row['name_eng'] != \"\":\n",
    "            listUniversity.append(row['university_eng'])\n",
    "            #print(row['id'],row['name_eng'])\n",
    "            \n",
    "listUniversity = list(set(listUniversity))\n",
    "listUniversity.remove('')"
   ]
  },
  {
   "cell_type": "code",
   "execution_count": 4,
   "metadata": {},
   "outputs": [],
   "source": [
    "# add special id > 1000 to universities Items\n",
    "id = 1000\n",
    "dictUniversity = dict()\n",
    "\n",
    "for ed in listUniversity:\n",
    "    #prepare dict for function below 'find_id_node()'\n",
    "    dictUniversity[id] = ed\n",
    "    #add nodes\n",
    "    G.add_node(id,type = \"education\",name_uni = ed)\n",
    "    \n",
    "    id+=1"
   ]
  },
  {
   "cell_type": "code",
   "execution_count": 5,
   "metadata": {},
   "outputs": [],
   "source": [
    "def find_id_node(dictOfWords,SearchStr):\n",
    "    listOfKeys = [key  for (key, value) in dictOfWords.items() if value == SearchStr]\n",
    "    return listOfKeys[0]"
   ]
  },
  {
   "cell_type": "code",
   "execution_count": 6,
   "metadata": {},
   "outputs": [],
   "source": [
    "#dictUniversity"
   ]
  },
  {
   "cell_type": "code",
   "execution_count": 7,
   "metadata": {},
   "outputs": [
    {
     "name": "stdout",
     "output_type": "stream",
     "text": [
      "{'type': 'prosecutor', 'name_eng': 'Avagumyan G.K.', 'office_eng': \"General Prosecutor's Office of the Urals Federal District\", 'date_of_appointment': '', 'gender': 'male', 'age': '', 'birth_place_region_eng': '', 'birth_place_location_eng': '', 'university_eng': '', 'grad_year': '', 'ed_level_eng': 'specialist', 'staff_income': '1\\xa0935\\xa0131,00', 'spouse_income': '1\\xa0721,00', 'image': ''}\n",
      "{'type': 'prosecutor', 'name_eng': 'Bukreev Konstantin Nikolaevich', 'office_eng': \"Moscow interregion transport prosecutor's office\", 'date_of_appointment': '2019', 'gender': 'male', 'age': '42', 'birth_place_region_eng': 'Khabarovsk region', 'birth_place_location_eng': 'Khabarovsk', 'university_eng': '', 'grad_year': '1999', 'ed_level_eng': 'specialist', 'staff_income': '3\\xa0412\\xa0552,22', 'spouse_income': '', 'image': 'http://www.mmtproc.ru/content/Image/Bukreev_info.jpg'}\n",
      "{'type': 'prosecutor', 'name_eng': 'Lapshov V.V.', 'office_eng': \"General Prosecutor's Office of the Urals Federal District\", 'date_of_appointment': '', 'gender': 'male', 'age': '', 'birth_place_region_eng': '', 'birth_place_location_eng': '', 'university_eng': '', 'grad_year': '', 'ed_level_eng': 'specialist', 'staff_income': '3\\xa0256\\xa0448,00', 'spouse_income': '', 'image': ''}\n",
      "{'type': 'prosecutor', 'name_eng': 'Tokareva Galina Nikolaevna', 'office_eng': \"General prosecutor's Office\", 'date_of_appointment': '2014', 'gender': 'female', 'age': '62', 'birth_place_region_eng': '', 'birth_place_location_eng': '', 'university_eng': '', 'grad_year': '', 'ed_level_eng': 'specialist', 'staff_income': '3\\xa0143\\xa0317,00', 'spouse_income': '1\\xa0064\\xa0304,00', 'image': 'https://www.vzsar.ru/i/news/big/2014/07/91101.jpg'}\n",
      "{'type': 'prosecutor', 'name_eng': 'Tolstova Y.T.', 'office_eng': \"General prosecutor's Office\", 'date_of_appointment': '', 'gender': 'female', 'age': '', 'birth_place_region_eng': '', 'birth_place_location_eng': '', 'university_eng': '', 'grad_year': '', 'ed_level_eng': '', 'staff_income': '', 'spouse_income': '', 'image': ''}\n"
     ]
    }
   ],
   "source": [
    "# make edges between prosecut & universities\n",
    "\n",
    "for node in G.nodes.data():\n",
    "    if node[1]['type'] ==  'prosecutor':\n",
    "        try:\n",
    "            G.add_edge(node[0],find_id_node(dictUniversity,node[1]['university_eng']))\n",
    "            #print(node[0],find_id_node(dictUniversity,node[1]['university_eng']))\n",
    "        except:\n",
    "            #some Prosecutors don't have education items \n",
    "            print(node[1])"
   ]
  },
  {
   "cell_type": "code",
   "execution_count": 8,
   "metadata": {},
   "outputs": [],
   "source": [
    "#Analise for predecessors \n",
    "for node in G.nodes.data():\n",
    "    G.nodes[node[0]]['predecessors'] = len(list(G.predecessors(node[0])))"
   ]
  },
  {
   "cell_type": "code",
   "execution_count": 9,
   "metadata": {},
   "outputs": [
    {
     "data": {
      "image/png": "[encoded data removed]",
      "text/plain": [
       "<Figure size 432x288 with 1 Axes>"
      ]
     },
     "metadata": {},
     "output_type": "display_data"
    }
   ],
   "source": [
    "#check net\n",
    "pos=nx.spring_layout(G)\n",
    "nx.draw_networkx(G,pos,with_labels=False)"
   ]
  },
  {
   "cell_type": "code",
   "execution_count": 10,
   "metadata": {},
   "outputs": [],
   "source": [
    "#convert net for Gephi\n",
    "nx.write_gexf(G, \"01_Russian_prosecutors_education.gexf\")"
   ]
  }
 ],
 "metadata": {
  "kernelspec": {
   "display_name": "Python 3",
   "language": "python",
   "name": "python3"
  },
  "language_info": {
   "codemirror_mode": {
    "name": "ipython",
    "version": 3
   },
   "file_extension": ".py",
   "mimetype": "text/x-python",
   "name": "python",
   "nbconvert_exporter": "python",
   "pygments_lexer": "ipython3",
   "version": "3.6.9"
  }
 },
 "nbformat": 4,
 "nbformat_minor": 4
}
