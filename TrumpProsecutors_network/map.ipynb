{
 "cells": [
  {
   "cell_type": "code",
   "execution_count": 1,
   "metadata": {},
   "outputs": [],
   "source": [
    "import csv\n",
    "import networkx as nx\n",
    "import matplotlib.pyplot as plt\n",
    "import collections"
   ]
  },
  {
   "cell_type": "code",
   "execution_count": 2,
   "metadata": {},
   "outputs": [],
   "source": [
    "G = nx.Graph()"
   ]
  },
  {
   "cell_type": "code",
   "execution_count": 3,
   "metadata": {},
   "outputs": [],
   "source": [
    "coordinats = {}\n",
    "\n",
    "with open('lat_lon_US.csv', newline='') as csvfile:\n",
    "    reader = csv.DictReader(csvfile)\n",
    "    \n",
    "    for row in reader:\n",
    "        \n",
    "        name = row[\"Place Name\"].split(\",\")[0].replace(\"State\",\"\").strip()\n",
    "        coordinats[name] = (float(row[\"Latitude\"]),float(row[\"Longitude\"]))\n",
    "       "
   ]
  },
  {
   "cell_type": "code",
   "execution_count": 4,
   "metadata": {},
   "outputs": [],
   "source": [
    "with open('TrumpProsecutors.csv', newline='') as csvfile:\n",
    "    reader = csv.DictReader(csvfile)\n",
    "    n= 0\n",
    "    for row in reader:\n",
    "        n +=1\n",
    "        id = n \n",
    "        \n",
    "        #To prepare name of District to be able use like key for coordinats dict\n",
    "        #To make these equal\n",
    "        \n",
    "        District = row['District'].split(\"of\")\n",
    "        District = District[-1].replace(\"U.S. Attorney for the S.D.\",\"\").replace(\"State\",\"\").strip()\n",
    "\n",
    "        #To make list of nodes\n",
    "        \n",
    "        G.add_node(id,name = row['Attorney'],\n",
    "                   District=District,\n",
    "                   Full_name = row['District'],\n",
    "                   Date_Appointment = row['Date of Appointment'],\n",
    "                   End_Date = row['End Date'],\n",
    "                   Barr_Appointment = row['Barr Appointment'])\n",
    "        "
   ]
  },
  {
   "cell_type": "code",
   "execution_count": 5,
   "metadata": {},
   "outputs": [],
   "source": [
    "list_Districts = []\n",
    "\n",
    " \n",
    "\n",
    "for d in G.nodes.data():\n",
    "    \n",
    "    list_Districts.append(d[1][\"District\"])\n",
    "    \n",
    "list_single_distr = set(list_Districts)\n",
    "\n",
    "#To find count of connections\n",
    "list_count = collections.Counter(list_Districts)\n"
   ]
  },
  {
   "cell_type": "code",
   "execution_count": 6,
   "metadata": {},
   "outputs": [],
   "source": [
    "#To make edges for network and add lat,lon, count of conections\n",
    "\n",
    "list_temp = []\n",
    "\n",
    "for i in list_single_distr:\n",
    "    list_temp = []\n",
    "    for d in G.nodes.data():\n",
    "        if i == d[1][\"District\"]:\n",
    "            list_temp.append(d[0])\n",
    "   \n",
    "    for n in list_temp:\n",
    "\n",
    "        if list_temp[0] != n:\n",
    "            G.add_edge(list_temp[0],n)\n",
    "            \n",
    "        elif list_temp[0] == n:\n",
    "            G.add_edge(list_temp[0],78)#Washington\n",
    "\n",
    "            G.nodes[list_temp[0]][\"count\"] = list_count[i]\n",
    "            G.nodes[list_temp[0]][\"lat\"] = coordinats[i][0]\n",
    "            G.nodes[list_temp[0]][\"lon\"] = coordinats[i][1]\n",
    "\n",
    "\n",
    " "
   ]
  },
  {
   "cell_type": "code",
   "execution_count": 7,
   "metadata": {},
   "outputs": [],
   "source": [
    "#optional\n",
    "\n",
    "for d in G.nodes.data():\n",
    "    deegre = G.degree[d[0]]\n",
    "    adj = list(G.adj[d[0]])\n",
    "    #print(adj)"
   ]
  },
  {
   "cell_type": "code",
   "execution_count": 8,
   "metadata": {},
   "outputs": [
    {
     "data": {
      "text/plain": [
       "'plt.figure(figsize=(10,9))\\npos = nx.random_layout(G)\\nnx.draw_networkx(G, pos)\\n'"
      ]
     },
     "execution_count": 8,
     "metadata": {},
     "output_type": "execute_result"
    }
   ],
   "source": [
    "\"\"\"plt.figure(figsize=(10,9))\n",
    "pos = nx.random_layout(G)\n",
    "nx.draw_networkx(G, pos)\n",
    "\"\"\""
   ]
  },
  {
   "cell_type": "code",
   "execution_count": 9,
   "metadata": {},
   "outputs": [],
   "source": [
    "nx.write_gexf(G, \"TrumpProsecutors_network.gexf\")"
   ]
  }
 ],
 "metadata": {
  "kernelspec": {
   "display_name": "Python 3",
   "language": "python",
   "name": "python3"
  },
  "language_info": {
   "codemirror_mode": {
    "name": "ipython",
    "version": 3
   },
   "file_extension": ".py",
   "mimetype": "text/x-python",
   "name": "python",
   "nbconvert_exporter": "python",
   "pygments_lexer": "ipython3",
   "version": "3.6.9"
  }
 },
 "nbformat": 4,
 "nbformat_minor": 4
}
