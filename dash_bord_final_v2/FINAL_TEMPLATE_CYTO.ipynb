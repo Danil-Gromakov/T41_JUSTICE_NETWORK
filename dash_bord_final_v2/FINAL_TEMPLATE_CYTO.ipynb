{
 "cells": [
  {
   "cell_type": "code",
   "execution_count": 1,
   "metadata": {},
   "outputs": [],
   "source": [
    "import dash\n",
    "import dash_core_components as dcc\n",
    "import dash_html_components as html\n",
    "\n",
    "from dash.dependencies import Input, Output, State\n",
    "\n",
    "import dash_cytoscape as cyto\n",
    "\n",
    "import json"
   ]
  },
  {
   "cell_type": "markdown",
   "metadata": {},
   "source": [
    "## Add nodes and edges"
   ]
  },
  {
   "cell_type": "code",
   "execution_count": 2,
   "metadata": {},
   "outputs": [],
   "source": [
    "# !!! important add 'url':'link_to_img' or 'NA'  ,   'classes':img\n",
    "\n",
    "# nodes and edges\n",
    "nodes = [\n",
    "            {'data': {'id': 'one', 'label': 'Node 1', 'url':'https://upload.wikimedia.org/wikipedia/commons/b/b2/Jay_Town_official_portrait.jpg'},\n",
    "             'classes':'img'},\n",
    "            {'data': {'id': 'two', 'label': 'Node 2','url':'NA'},'classes':'img'},\n",
    "            {'data': {'id': '3', 'label': 'Node 3','url':'NA'},'classes':'img'},\n",
    "            {'data': {'id': '4', 'label': 'Node 4','url':'NA'},'classes':'img'}\n",
    "            ]\n",
    "#make juct edges\n",
    "edges =[    {'data': {'source': 'one', 'target': 'two'}},\n",
    "            {'data': {'source': 'one', 'target': '3'}},\n",
    "            {'data': {'source': 'one', 'target': '4'}},\n",
    "            {'data': {'source': '3', 'target': '4'}}\n",
    "        ]"
   ]
  },
  {
   "cell_type": "code",
   "execution_count": 3,
   "metadata": {},
   "outputs": [],
   "source": [
    "# list label val for dropdown-callbacks-label\n",
    "listLabelVal = list()\n",
    "for k in nodes[0]['data'].keys():\n",
    "    if k in ['url']:\n",
    "        continue\n",
    "    listLabelVal.append({'label': k, 'value': 'data('+k+')'})"
   ]
  },
  {
   "cell_type": "code",
   "execution_count": 4,
   "metadata": {},
   "outputs": [],
   "source": [
    "net = nodes + edges"
   ]
  },
  {
   "cell_type": "markdown",
   "metadata": {},
   "source": [
    "## Styles"
   ]
  },
  {
   "cell_type": "code",
   "execution_count": 5,
   "metadata": {},
   "outputs": [],
   "source": [
    "# style for network\n",
    "default_stylesheet = [{\n",
    "        \"selector\": 'node',\n",
    "        'style': {\n",
    "            'opacity': 0.9,\n",
    "            'content': 'data(label)'\n",
    "            #'background-fit': 'cover',\n",
    "            #'background-image': 'data(img)'\n",
    "        }\n",
    "    }, {\n",
    "        'selector': 'edge',\n",
    "        'style': {\n",
    "            'opacity': 0.9,\n",
    "            \"curve-style\": \"bezier\",\n",
    "            'source-arrow-shape': 'triangle'\n",
    "        }\n",
    "    }    \n",
    "]\n"
   ]
  },
  {
   "cell_type": "markdown",
   "metadata": {},
   "source": [
    "## Img Node"
   ]
  },
  {
   "cell_type": "code",
   "execution_count": 6,
   "metadata": {},
   "outputs": [],
   "source": [
    "style_img_node = [{\n",
    "        'selector': '.img',\n",
    "        'style': {\n",
    "            'background-fit': 'cover',\n",
    "            'background-image': 'data(url)'\n",
    "        }\n",
    "}\n",
    "    \n",
    " ]"
   ]
  },
  {
   "cell_type": "code",
   "execution_count": 7,
   "metadata": {},
   "outputs": [],
   "source": [
    "# styles for dash\n",
    "external_stylesheets = ['https://codepen.io/chriddyp/pen/bWLwgP.css']\n",
    "app = dash.Dash(__name__, external_stylesheets=external_stylesheets)"
   ]
  },
  {
   "cell_type": "markdown",
   "metadata": {},
   "source": [
    "## DASH "
   ]
  },
  {
   "cell_type": "code",
   "execution_count": 8,
   "metadata": {},
   "outputs": [],
   "source": [
    "# main container\n",
    "app.layout = html.Div(style={'height':'95vh'},children=[\n",
    "    \n",
    "    #container\n",
    "    html.Div(className='row',\n",
    "             style = {'width': '100%'},\n",
    "    #left side\n",
    "             children=[\n",
    "    \n",
    "        html.Div(id='network-block',\n",
    "                 className=\"eight columns\",\n",
    "                 style={'border': 'thin lightblue solid','border-radius': 10},\n",
    "                 children =[\n",
    "                html.H6('Netwok'),\n",
    "\n",
    "                cyto.Cytoscape(\n",
    "                id='cytoscape-net',\n",
    "                boxSelectionEnabled = True,\n",
    "                layout={'name': 'random'},\n",
    "                style={'width': '100%', 'height': '85vh'},\n",
    "                stylesheet = default_stylesheet,\n",
    "                elements=net\n",
    "            )]),\n",
    "        \n",
    "        #right side\n",
    "        html.Div(id='adjust-block',\n",
    "                 className=\"four columns\",\n",
    "                 style={'border-radius': 10,\n",
    "                        'margin-bottom':10 },\n",
    "                 children =[\n",
    "                \n",
    "                \n",
    "                html.H6('Adjust Layouts'),\n",
    "                #dropdown layout\n",
    "                dcc.Dropdown(\n",
    "                        id='dropdown-callbacks-layout',\n",
    "                        value='random',\n",
    "                        clearable=False,\n",
    "                        options=[\n",
    "                            {'label': name.capitalize(), 'value': name}\n",
    "                            for name in ['grid', 'random', 'circle', 'cose', 'concentric']\n",
    "                        ]\n",
    "                    ),\n",
    "                \n",
    "                #label Nodes\n",
    "                html.H6('Adjust Label of Node'),\n",
    "                     \n",
    "                dcc.Dropdown(\n",
    "                        id='dropdown-callbacks-label',\n",
    "                        value='data(label)',\n",
    "                        clearable=False,\n",
    "                        options=listLabelVal\n",
    "                    )\n",
    "\n",
    "                 ]),\n",
    "        html.Div(id='node-img-block',\n",
    "                 className=\"four columns\",\n",
    "                 style={'backgroundColor':'lightgreen',\n",
    "                        'border-radius': 10,\n",
    "                       'height': '500px'},\n",
    "                 children =[\n",
    "                #-----------------------\n",
    "                dcc.Tabs(id=\"tabs\", children=[\n",
    "                dcc.Tab(label='Info', children = [\n",
    "                    # show img & previue info\n",
    "                    html.Div(id='img-prosecutor', style = {'margin':'10px'}, children = [])\n",
    "                ]),\n",
    "                    \n",
    "                dcc.Tab(label='Data', children=[\n",
    "                    html.Div([html.H6('Info json'),\n",
    "                    html.Pre(id='output_json',children=[], #)\n",
    "                         style = {'overflow': 'scroll',\n",
    "                                     'height': '400px'\n",
    "                                  #'border': 'thin lightgrey solid'\n",
    "                                 \n",
    "                                 })\n",
    "                    ])\n",
    "                ])\n",
    "            ])\n",
    "                \n",
    "\n",
    "                 ])\n",
    "    \n",
    "    ])\n",
    "             \n",
    "])"
   ]
  },
  {
   "cell_type": "markdown",
   "metadata": {},
   "source": [
    "## Functionals"
   ]
  },
  {
   "cell_type": "code",
   "execution_count": 9,
   "metadata": {},
   "outputs": [],
   "source": [
    "#Following & Followed nodes and edges\n",
    "@app.callback([Output('output_json', 'children'),\n",
    "              Output('cytoscape-net', 'stylesheet'),\n",
    "              Output('img-prosecutor','children')],\n",
    "\n",
    "              [Input('cytoscape-net', 'tapNode'),\n",
    "               Input('cytoscape-net', 'selectedNodeData'),\n",
    "               Input('dropdown-callbacks-label', 'value')])\n",
    "\n",
    "def test(node,selectedNodeData,nodeLabel):\n",
    "    if not node:\n",
    "        new_styles = [{\n",
    "            \"selector\": 'node',\n",
    "            'style': {\n",
    "                'opacity': 1,\n",
    "                'content': nodeLabel,\n",
    "                #'background-image': 'data(url)'\n",
    "                \n",
    "            }\n",
    "        }]\n",
    "        return 'Node not chosen', default_stylesheet + new_styles + style_img_node ,html.H6('Node not chosen')\n",
    "    if selectedNodeData == []:\n",
    "        new_styles = [{\n",
    "            \"selector\": 'node',\n",
    "            'style': {\n",
    "                'opacity': 1,\n",
    "                'content': nodeLabel,\n",
    "                #'background-image': 'data(url)'\n",
    "            }\n",
    "        }]\n",
    "        return 'Node not chosen', default_stylesheet + new_styles + style_img_node ,html.H6('Node not chosen')\n",
    "    \n",
    "    \n",
    "    if node:   \n",
    "        stylesheet = [{\n",
    "            \"selector\": 'node',\n",
    "            'style': {\n",
    "                'opacity': 0.9,\n",
    "                'content': nodeLabel,\n",
    "                #'background-image': 'data(url)'\n",
    "            }\n",
    "        }, {\n",
    "            'selector': 'edge',\n",
    "            'style': {\n",
    "                'opacity': 0.9,\n",
    "                \"curve-style\": \"bezier\",\n",
    "                'source-arrow-shape': 'triangle'\n",
    "            }\n",
    "        }\n",
    "        ]\n",
    "        \n",
    "        #tapNode change border\n",
    "        stylesheet.append({\n",
    "                    \"selector\": 'node[id = \"{}\"]'.format(node['data']['id']),\n",
    "                    \"style\": {\n",
    "                        'shape': 'rectangle',\n",
    "                        'border-width': 6,\n",
    "                        'border-color': 'yellow',\n",
    "                        'border-opacity':0.5,\n",
    "                    }\n",
    "                })\n",
    "\n",
    "        #following\n",
    "        #change color\n",
    "        following_color = 'red'\n",
    "        \n",
    "        for edge in node['edgesData']:\n",
    "            #edge\n",
    "            if edge['source'] == node['data']['id']:\n",
    "                stylesheet.append({\n",
    "                    \"selector\": 'node[id = \"{}\"]'.format(edge['target']),\n",
    "                    \"style\": {\n",
    "                        'background-color': following_color,\n",
    "                        'opacity': 0.9\n",
    "                    }\n",
    "                })\n",
    "            #node\n",
    "                stylesheet.append({\n",
    "                    \"selector\": 'edge[id= \"{}\"]'.format(edge['id']),\n",
    "                    \"style\": {\n",
    "                        \"line-color\": following_color,\n",
    "                        'source-arrow-color':following_color\n",
    "                    }\n",
    "                })\n",
    "        \n",
    "        #follower\n",
    "        #change color \n",
    "        follower_color = 'green'\n",
    "        for edge in node['edgesData']:\n",
    "            #edge\n",
    "            if edge['target'] == node['data']['id']:\n",
    "                stylesheet.append({\n",
    "                    \"selector\": 'node[id = \"{}\"]'.format(edge['source']),\n",
    "                    \"style\": {\n",
    "                        'background-color': follower_color,\n",
    "                        'opacity': 0.9\n",
    "                    }\n",
    "                })\n",
    "            #node\n",
    "                stylesheet.append({\n",
    "                    \"selector\": 'edge[id= \"{}\"]'.format(edge['id']),\n",
    "                    \"style\": {\n",
    "                        \"line-color\": follower_color,\n",
    "                        'source-arrow-color': follower_color\n",
    "                    }\n",
    "                })\n",
    "        img = html.Div([html.Img(src=node['data']['url'], style={'height':'30%', 'width':'30%'}),\n",
    "              html.Div(\n",
    "                  [html.P('Name: '+node['data']['label']),\n",
    "                  html.P('Office: '+node['data']['id'])]\n",
    "              )])\n",
    "              \n",
    "                \n",
    "        return json.dumps(node['data'], indent=2), stylesheet + style_img_node ,img "
   ]
  },
  {
   "cell_type": "code",
   "execution_count": 10,
   "metadata": {},
   "outputs": [],
   "source": [
    "#change layout\n",
    "@app.callback(Output('cytoscape-net', 'layout'),\n",
    "              [Input('dropdown-callbacks-layout', 'value')])\n",
    "def update_layout(layout):\n",
    "    return {\n",
    "        'name': layout,\n",
    "        'animate': True\n",
    "    }"
   ]
  },
  {
   "cell_type": "code",
   "execution_count": null,
   "metadata": {},
   "outputs": [
    {
     "name": "stdout",
     "output_type": "stream",
     "text": [
      " * Serving Flask app \"__main__\" (lazy loading)\n",
      " * Environment: production\n",
      "\u001b[31m   WARNING: This is a development server. Do not use it in a production deployment.\u001b[0m\n",
      "\u001b[2m   Use a production WSGI server instead.\u001b[0m\n",
      " * Debug mode: off\n"
     ]
    },
    {
     "name": "stderr",
     "output_type": "stream",
     "text": [
      " * Running on http://127.0.0.1:8050/ (Press CTRL+C to quit)\n"
     ]
    }
   ],
   "source": [
    "if __name__ == '__main__':\n",
    "    app.run_server(debug=False)\n"
   ]
  }
 ],
 "metadata": {
  "kernelspec": {
   "display_name": "Python 3",
   "language": "python",
   "name": "python3"
  },
  "language_info": {
   "codemirror_mode": {
    "name": "ipython",
    "version": 3
   },
   "file_extension": ".py",
   "mimetype": "text/x-python",
   "name": "python",
   "nbconvert_exporter": "python",
   "pygments_lexer": "ipython3",
   "version": "3.6.9"
  }
 },
 "nbformat": 4,
 "nbformat_minor": 4
}
