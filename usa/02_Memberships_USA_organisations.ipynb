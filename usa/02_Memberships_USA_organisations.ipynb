{
 "cells": [
  {
   "cell_type": "markdown",
   "metadata": {},
   "source": [
    "## Memberships organisations\n",
    "### Show proTrump members and all Prosecutors & DOJ\n",
    "#### used all_noemploy.csv"
   ]
  },
  {
   "cell_type": "code",
   "execution_count": 1,
   "metadata": {},
   "outputs": [],
   "source": [
    "import csv\n",
    "import networkx as nx\n",
    "import collections\n",
    "\n",
    "#G = nx.Graph()\n",
    "G = nx.DiGraph() "
   ]
  },
  {
   "cell_type": "code",
   "execution_count": 2,
   "metadata": {},
   "outputs": [],
   "source": [
    "# Add Nodes Persone\n",
    "\n",
    "# all_noemploy.csv\n",
    "\n",
    "protectFromDublicat = list()\n",
    "with open('all_noemploy.csv', newline='') as csvfile:\n",
    "    reader = csv.DictReader(csvfile)\n",
    "\n",
    "    # add nodes\n",
    "    for row in reader:\n",
    "        if row['person'] not in protectFromDublicat:\n",
    "            protectFromDublicat.append(row['person'])\n",
    "            \n",
    "            G.add_node(row['id'],\n",
    "                person = row['person'],\n",
    "                url = \"NA\",\n",
    "                position_current = row['position_current'],\n",
    "                source = row['source'],\n",
    "                date_of_appointment = row['date_of_appointment'],\n",
    "                date_of_birth = row['date_of_birth'],\n",
    "                age = row['age'],\n",
    "                birthplace = row['birthplace'],\n",
    "                sex = row['sex'],\n",
    "                bachelors = row['bachelors'],\n",
    "                masters = row['masters'],\n",
    "                doctorate = row['doctorate'],\n",
    "                law = row['law'],\n",
    "                law_conservative_score = row['law_conservative_score'],\n",
    "                law_rank = row['law_rank'],\n",
    "                barr_appointment = row['barr_appointment'],\n",
    "                political_affiliation = row['political_affiliation'],\n",
    "                       \n",
    "                connection_trump_all=row['connection_trump_all'],\n",
    "                connection_trump_interviews=row['connection_trump_interviews'],\n",
    "                connection_trump_campaign=row['connection_trump_campaign'],\n",
    "                connection_trumpally_all=row['connection_trumpally_all'],\n",
    "                connection_trumpally_innercircle=row['connection_trumpally_innercircle'],\n",
    "                #connection_trumpally_wh_counsel=row['connection_trumpally_wh_counsel'],\n",
    "                connection_trumpally_us_senate=row['connection_trumpally_us_senate'],\n",
    "                connection_trumpally_state_gov=row['connection_trumpally_state_gov'],\n",
    "               \n",
    "                       connection_trumpally_rnc = row['connection_trumpally_rnc'],        \n",
    "                \n",
    "                connection_conservative_all=row['connection_conservative_all'],\n",
    "                connection_conservative_lawschool=row['connection_conservative_lawschool'],\n",
    "                connection_conservative_firm=row['connection_conservative_firm'],\n",
    "                connection_conservative_group=row['connection_conservative_group'],\n",
    "                connection_conservative_gov=row['connection_conservative_gov'],\n",
    "                \n",
    "                       connection_careerprofessional_all=row['connection_careerprofessional_all'],\n",
    "                \n",
    "                       connection_other_all=row['connection_other_all'],\n",
    "                \n",
    "                #organisations\n",
    "                american_center_for_law_and_justice = row['american_center_for_law_and_justice'],\n",
    "                christian_legal_society_bar_association = row['christian_legal_society_bar_association'],\n",
    "                federalist_society = row['federalist_society'],\n",
    "                heritage_foundation = row['heritage_foundation'],\n",
    "                national_rifle_association_tie = row['national_rifle_association_tie'],\n",
    "                republican_national_lawyers_association_tie = row['republican_national_lawyers_association_tie']\n",
    "                      )\n",
    "           \n",
    "       "
   ]
  },
  {
   "cell_type": "code",
   "execution_count": 3,
   "metadata": {},
   "outputs": [],
   "source": [
    "# add image\n",
    "\n",
    "for node in G.nodes.data():\n",
    "    if int(node[0]) < 500:\n",
    "\n",
    "        with open('all_noemploy_img.csv', newline='') as csvfile:\n",
    "            reader = csv.DictReader(csvfile)\n",
    "            for row in reader:\n",
    "                if node[1]['person'] == row['person']:\n",
    "                    G.nodes[node[0]]['url'] = row['url']\n",
    "                "
   ]
  },
  {
   "cell_type": "code",
   "execution_count": 4,
   "metadata": {},
   "outputs": [],
   "source": [
    "\n",
    "\n",
    "# nodes organisations\n",
    "organisations = ['american_center_for_law_and_justice' ,\n",
    "                'christian_legal_society_bar_association',\n",
    "                'federalist_society',\n",
    "                'heritage_foundation',\n",
    "                'national_rifle_association_tie' ,\n",
    "                'republican_national_lawyers_association_tie' ]\n",
    "\n",
    "Law = ['connection_conservative_lawschool',\n",
    "               'connection_conservative_firm']\n",
    "\n",
    "conservatism = organisations   #+Law\n",
    "\n",
    "\n",
    "id = 500\n",
    "for node in conservatism:\n",
    "    G.add_node(id,conservatism = node)\n",
    "    id +=1\n",
    "\n",
    "# add nodes organisations "
   ]
  },
  {
   "cell_type": "code",
   "execution_count": 5,
   "metadata": {},
   "outputs": [
    {
     "name": "stdout",
     "output_type": "stream",
     "text": [
      "(500, {'conservatism': 'american_center_for_law_and_justice'})\n",
      "(501, {'conservatism': 'christian_legal_society_bar_association'})\n",
      "(502, {'conservatism': 'federalist_society'})\n",
      "(503, {'conservatism': 'heritage_foundation'})\n",
      "(504, {'conservatism': 'national_rifle_association_tie'})\n",
      "(505, {'conservatism': 'republican_national_lawyers_association_tie'})\n"
     ]
    }
   ],
   "source": [
    "for node in G.nodes.data():\n",
    "    if int(node[0]) >= 500:\n",
    "        print(node)"
   ]
  },
  {
   "cell_type": "code",
   "execution_count": 6,
   "metadata": {},
   "outputs": [],
   "source": [
    "#add edges to Pro trump \n",
    "for node in G.nodes.data():\n",
    "    if int(node[0]) < 500: \n",
    "        #print(node[0],node[1]['person'],node[1]['connection_trump'])\n",
    "        if node[1]['american_center_for_law_and_justice'] == '1':\n",
    "            G.add_edge(node[0],500)\n",
    "        if node[1]['christian_legal_society_bar_association'] == '1':\n",
    "            G.add_edge(node[0],501)\n",
    "        if node[1]['federalist_society'] == '1':\n",
    "            G.add_edge(node[0],502)\n",
    "        if node[1]['heritage_foundation'] == '1':\n",
    "            G.add_edge(node[0],503)\n",
    "        if node[1]['national_rifle_association_tie'] == '1':\n",
    "            G.add_edge(node[0],504)\n",
    "        if node[1]['republican_national_lawyers_association_tie'] == '1':\n",
    "            G.add_edge(node[0],505)\n",
    "            \n",
    "        #if node[1]['connection_conservative_lawschool'] == '1':\n",
    "         #   G.add_edge(node[0],506)\n",
    "        #if node[1]['connection_conservative_firm'] == '1':\n",
    "         #   G.add_edge(node[0],507)"
   ]
  },
  {
   "cell_type": "code",
   "execution_count": 7,
   "metadata": {},
   "outputs": [],
   "source": [
    "# add color law rank\n",
    "for node in G.nodes.data():\n",
    "    if int(node[0]) < 500 and node[1]['law_rank'] != 'NA': \n",
    "        if int(node[1]['law_rank']) in range(0,51):\n",
    "            G.nodes[node[0]]['color_law_rank'] = 'green'\n",
    "        if int(node[1]['law_rank']) in range(51,101):\n",
    "            G.nodes[node[0]]['color_law_rank'] = 'yellow'\n",
    "        if int(node[1]['law_rank']) in range(101,201):\n",
    "            G.nodes[node[0]]['color_law_rank'] = 'red'\n"
   ]
  },
  {
   "cell_type": "code",
   "execution_count": 8,
   "metadata": {},
   "outputs": [],
   "source": [
    "# add short NAME to DOJ and prosecutor\n",
    "for node in G.nodes.data():\n",
    "    if int(node[0]) < 500: \n",
    "        if node[1]['source'] == 'prosecutor':\n",
    "            G.nodes[node[0]]['short_source'] = 'P'\n",
    "        if node[1]['source'] == 'justicedept':\n",
    "            G.nodes[node[0]]['short_source'] = 'J'\n"
   ]
  },
  {
   "cell_type": "code",
   "execution_count": 9,
   "metadata": {},
   "outputs": [],
   "source": [
    "#Analise for in_degree \n",
    "for node in G.nodes.data():\n",
    "    G.nodes[node[0]]['predecessors'] = len(list(G.predecessors(node[0])))"
   ]
  },
  {
   "cell_type": "code",
   "execution_count": 10,
   "metadata": {},
   "outputs": [
    {
     "data": {
      "image/png": "[encoded data removed]",
      "text/plain": [
       "<Figure size 432x288 with 1 Axes>"
      ]
     },
     "metadata": {},
     "output_type": "display_data"
    }
   ],
   "source": [
    "#check net\n",
    "pos=nx.spring_layout(G)\n",
    "nx.draw_networkx(G,pos,with_labels=False)"
   ]
  },
  {
   "cell_type": "code",
   "execution_count": 11,
   "metadata": {},
   "outputs": [],
   "source": [
    "nx.write_gexf(G, \"2C_conservatism.gexf\")"
   ]
  }
 ],
 "metadata": {
  "kernelspec": {
   "display_name": "Python 3",
   "language": "python",
   "name": "python3"
  },
  "language_info": {
   "codemirror_mode": {
    "name": "ipython",
    "version": 3
   },
   "file_extension": ".py",
   "mimetype": "text/x-python",
   "name": "python",
   "nbconvert_exporter": "python",
   "pygments_lexer": "ipython3",
   "version": "3.6.9"
  }
 },
 "nbformat": 4,
 "nbformat_minor": 4
}
