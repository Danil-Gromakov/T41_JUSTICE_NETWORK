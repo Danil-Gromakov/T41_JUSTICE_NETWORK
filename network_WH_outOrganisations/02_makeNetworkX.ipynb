{
 "cells": [
  {
   "cell_type": "code",
   "execution_count": 1,
   "metadata": {},
   "outputs": [],
   "source": [
    "import json\n",
    "import networkx as nx\n",
    "import matplotlib.pyplot as plt"
   ]
  },
  {
   "cell_type": "code",
   "execution_count": 2,
   "metadata": {},
   "outputs": [],
   "source": [
    "f = open('DataForNetwork.json') \n",
    "netData = json.load(f)"
   ]
  },
  {
   "cell_type": "code",
   "execution_count": 3,
   "metadata": {},
   "outputs": [],
   "source": [
    "G = nx.Graph()"
   ]
  },
  {
   "cell_type": "code",
   "execution_count": 1,
   "metadata": {},
   "outputs": [],
   "source": [
    "#optional\n",
    "#G.add_node('WH',id = 0, type = 'WH')"
   ]
  },
  {
   "cell_type": "code",
   "execution_count": 5,
   "metadata": {},
   "outputs": [],
   "source": [
    "#read DataForNetwork.json\n",
    "#make nodes and edges\n",
    "\n",
    "for numA in range(1,86):#id of 85 agencie at WH\n",
    "    numA = str(numA)\n",
    "    for n in netData[numA]:\n",
    "        \n",
    "        if n['outsideOrganisations'] != None:\n",
    "            countOrg = len(n['outsideOrganisations'])\n",
    "        else:\n",
    "            countOrg = 0\n",
    "            \n",
    "        G.add_node(n['agency'], type = 'agency',countStaf = len(netData[numA]),agencieID = numA )\n",
    "        \n",
    "        G.add_node(n['staffer_name'], type = 'staffer',countOrg = countOrg,stafID = n['staffer_id'])\n",
    "        \n",
    "        #G.add_edge(n['agency'],'WH')\n",
    "        G.add_edge(n['staffer_name'],n['agency'])\n",
    "        \n",
    "        if n['outsideOrganisations'] != None:\n",
    "            for org in n['outsideOrganisations']:\n",
    "                G.add_node(org['orgName'], type = 'organisation', orgID = org['orgID'])\n",
    "                G.add_edge(org['orgName'],n['staffer_name'])       "
   ]
  },
  {
   "cell_type": "code",
   "execution_count": 6,
   "metadata": {},
   "outputs": [],
   "source": [
    "# add id for every node\n",
    "numId = 0\n",
    "for n in G.nodes.data():\n",
    "    n[1]['id'] = numId\n",
    "    numId +=1"
   ]
  },
  {
   "cell_type": "code",
   "execution_count": 7,
   "metadata": {},
   "outputs": [],
   "source": [
    "# find neighbors for every outside organisation\n",
    "# and add to node organisation len(neighbors)\n",
    "for n in G.nodes.data():\n",
    "    if n[1][\"type\"] == \"organisation\":\n",
    "        neighbors = list(G.adj[n[0]])\n",
    "        #print(len(neighbors),n[0])\n",
    "        G.nodes[n[0]][\"count_officials_in_org\"] = len(neighbors)"
   ]
  },
  {
   "cell_type": "code",
   "execution_count": 8,
   "metadata": {},
   "outputs": [
    {
     "data": {
      "text/plain": [
       "\"plt.figure(figsize=(17,10))\\npos = nx.spring_layout(G)\\nplt.axis('off')\\nplt.tight_layout()\\nnx.draw_networkx(G,pos,with_labels=True,alpha=0.7,node_size = 50, edge_color='.7')\""
      ]
     },
     "execution_count": 8,
     "metadata": {},
     "output_type": "execute_result"
    }
   ],
   "source": [
    "#optional\n",
    "\"\"\"plt.figure(figsize=(17,10))\n",
    "pos = nx.spring_layout(G)\n",
    "plt.axis('off')\n",
    "plt.tight_layout()\n",
    "nx.draw_networkx(G,pos,with_labels=True,alpha=0.7,node_size = 50, edge_color='.7')\"\"\""
   ]
  },
  {
   "cell_type": "code",
   "execution_count": 9,
   "metadata": {},
   "outputs": [],
   "source": [
    "#make gexf file for Gephi\n",
    "nx.write_gexf(G, \"WH_networx_to_GEPHI.gexf\")"
   ]
  }
 ],
 "metadata": {
  "kernelspec": {
   "display_name": "Python 3",
   "language": "python",
   "name": "python3"
  },
  "language_info": {
   "codemirror_mode": {
    "name": "ipython",
    "version": 3
   },
   "file_extension": ".py",
   "mimetype": "text/x-python",
   "name": "python",
   "nbconvert_exporter": "python",
   "pygments_lexer": "ipython3",
   "version": "3.6.9"
  }
 },
 "nbformat": 4,
 "nbformat_minor": 4
}
