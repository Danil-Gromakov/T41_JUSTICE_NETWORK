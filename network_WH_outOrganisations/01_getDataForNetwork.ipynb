{
 "cells": [
  {
   "cell_type": "code",
   "execution_count": 1,
   "metadata": {},
   "outputs": [],
   "source": [
    "import csv\n",
    "import json"
   ]
  },
  {
   "cell_type": "code",
   "execution_count": 2,
   "metadata": {},
   "outputs": [],
   "source": [
    "pwd = './trumptown_data-store_1019/'\n",
    "dictAgency = {}"
   ]
  },
  {
   "cell_type": "markdown",
   "metadata": {},
   "source": [
    "## agencies.csv"
   ]
  },
  {
   "cell_type": "code",
   "execution_count": 3,
   "metadata": {},
   "outputs": [],
   "source": [
    "#Get agencie like key value\n",
    "\n",
    "with open(pwd+'agencies.csv', newline='') as csvfile:\n",
    "    reader = csv.DictReader(csvfile)\n",
    "    for row in reader:\n",
    "        #print(row['id'], row['name'])\n",
    "        dictAgency[row['id']]=row['name']"
   ]
  },
  {
   "cell_type": "markdown",
   "metadata": {},
   "source": [
    "## staffers.csv"
   ]
  },
  {
   "cell_type": "code",
   "execution_count": 4,
   "metadata": {},
   "outputs": [],
   "source": [
    "#get list officials at every agencie\n",
    "def findOfficialsInAgency(AgencyID,AgencyName):\n",
    "    listStaffersAtAgency = []\n",
    "    with open(pwd+'staffers.csv', newline='') as csvfile:\n",
    "        reader = csv.DictReader(csvfile)\n",
    "        for row in reader:\n",
    "            if row['agency_id'] == AgencyID:\n",
    "                listStaffersAtAgency.append({'agency':AgencyName,\n",
    "                                             'staffer_id':row['id'],\n",
    "                                             'staffer_name':row['name']})\n",
    "        return listStaffersAtAgency"
   ]
  },
  {
   "cell_type": "code",
   "execution_count": 11,
   "metadata": {
    "scrolled": true
   },
   "outputs": [],
   "source": [
    "dictAgencyPlusStaffers = {}\n",
    "for k,n in dictAgency.items():\n",
    "    a = findOfficialsInAgency(k,n)\n",
    "    dictAgencyPlusStaffers[k] = a\n",
    "#print(dictAgencyPlusStaffers)"
   ]
  },
  {
   "cell_type": "code",
   "execution_count": 6,
   "metadata": {
    "scrolled": true
   },
   "outputs": [
    {
     "name": "stdout",
     "output_type": "stream",
     "text": [
      "id >  17 Commerce\n",
      "len >  162 \n",
      "\n",
      "[{'agency': 'Commerce', 'staffer_id': '101', 'staffer_name': 'Talat Beatrice Goudarzi'}, {'agency': 'Commerce', 'staffer_id': '994', 'staffer_name': 'Eric David Branstad'}, {'agency': 'Commerce', 'staffer_id': '1043', 'staffer_name': 'James Rockas'}, {'agency': 'Commerce', 'staffer_id': '1047', 'staffer_name': 'Ian Steff'}, {'agency': 'Commerce', 'staffer_id': '2091', 'staffer_name': 'Emilie Winckel'}, {'agency': 'Commerce', 'staffer_id': '2092', 'staffer_name': 'Erica Tillotson'}, {'agency': 'Commerce', 'staffer_id': '2093', 'staffer_name': 'Jane Kotlarski'}, {'agency': 'Commerce', 'staffer_id': '2094', 'staffer_name': 'Jessica Curyto'}, {'agency': 'Commerce', 'staffer_id': '2095', 'staffer_name': 'John Seely Luce'}, {'agency': 'Commerce', 'staffer_id': '2096', 'staffer_name': 'Julie A. Lam'}, {'agency': 'Commerce', 'staffer_id': '871', 'staffer_name': 'Peter Krug'}, {'agency': 'Commerce', 'staffer_id': '870', 'staffer_name': 'Consuella T. Jordan'}, {'agency': 'Commerce', 'staffer_id': '869', 'staffer_name': 'John Paul Guido'}, {'agency': 'Commerce', 'staffer_id': '880', 'staffer_name': 'Wilbur L. Ross'}, {'agency': 'Commerce', 'staffer_id': '991', 'staffer_name': 'Morgan E. Bedan'}, {'agency': 'Commerce', 'staffer_id': '995', 'staffer_name': 'Frank T. Bray'}, {'agency': 'Commerce', 'staffer_id': '996', 'staffer_name': 'Michael Burgess'}, {'agency': 'Commerce', 'staffer_id': '2688', 'staffer_name': 'Erik Noble'}, {'agency': 'Commerce', 'staffer_id': '997', 'staffer_name': 'Henry Childs II'}, {'agency': 'Commerce', 'staffer_id': '1006', 'staffer_name': 'Nicole Grove'}, {'agency': 'Commerce', 'staffer_id': '1005', 'staffer_name': 'Loretta S. Greene'}, {'agency': 'Commerce', 'staffer_id': '1010', 'staffer_name': 'Israel Hernandez'}, {'agency': 'Commerce', 'staffer_id': '1008', 'staffer_name': 'Tina-Maria G. Henry'}, {'agency': 'Commerce', 'staffer_id': '1012', 'staffer_name': 'George Kelly'}, {'agency': 'Commerce', 'staffer_id': '1007', 'staffer_name': 'Hunter Noble Hall'}, {'agency': 'Commerce', 'staffer_id': '1001', 'staffer_name': 'Cameron Dorsey'}, {'agency': 'Commerce', 'staffer_id': '1002', 'staffer_name': 'Kimberly Ekmark'}, {'agency': 'Commerce', 'staffer_id': '1004', 'staffer_name': 'Grant Gardner'}, {'agency': 'Commerce', 'staffer_id': '1022', 'staffer_name': 'Robert McNerney'}, {'agency': 'Commerce', 'staffer_id': '1017', 'staffer_name': 'Brandon Leggiero'}, {'agency': 'Commerce', 'staffer_id': '1023', 'staffer_name': 'Steven Meyers'}, {'agency': 'Commerce', 'staffer_id': '1019', 'staffer_name': 'Marina Macklin'}, {'agency': 'Commerce', 'staffer_id': '1020', 'staffer_name': 'Kevin Gerard Manning'}, {'agency': 'Commerce', 'staffer_id': '1016', 'staffer_name': 'Sally Leach'}, {'agency': 'Commerce', 'staffer_id': '1021', 'staffer_name': 'Richard McCormack'}, {'agency': 'Commerce', 'staffer_id': '1014', 'staffer_name': 'Lawson Kluttz'}, {'agency': 'Commerce', 'staffer_id': '1026', 'staffer_name': 'Edgar Mkrtchian'}, {'agency': 'Commerce', 'staffer_id': '1034', 'staffer_name': 'Sahra Su'}, {'agency': 'Commerce', 'staffer_id': '1028', 'staffer_name': 'Hunter Michael Morgen'}, {'agency': 'Commerce', 'staffer_id': '1031', 'staffer_name': 'Chelsey Neuhaus'}, {'agency': 'Commerce', 'staffer_id': '1033', 'staffer_name': 'Stan Olshefski'}, {'agency': 'Commerce', 'staffer_id': '1039', 'staffer_name': 'Alex Rankin'}, {'agency': 'Commerce', 'staffer_id': '1038', 'staffer_name': 'Kevin McRee Quinley'}, {'agency': 'Commerce', 'staffer_id': '1040', 'staffer_name': 'William Reinert'}, {'agency': 'Commerce', 'staffer_id': '1046', 'staffer_name': 'Prentiss Lee Smith'}, {'agency': 'Commerce', 'staffer_id': '1123', 'staffer_name': 'Karen Dunn Kelley'}, {'agency': 'Commerce', 'staffer_id': '1055', 'staffer_name': 'Allaire D. Williams'}, {'agency': 'Commerce', 'staffer_id': '1056', 'staffer_name': 'Barbara Yankasky-Norton'}, {'agency': 'Commerce', 'staffer_id': '1054', 'staffer_name': 'Jonathan Wardell'}, {'agency': 'Commerce', 'staffer_id': '1050', 'staffer_name': 'James Uthmeier'}, {'agency': 'Commerce', 'staffer_id': '868', 'staffer_name': 'Richard Apollo Fuhriman'}, {'agency': 'Commerce', 'staffer_id': '998', 'staffer_name': 'Kimberly Clark'}, {'agency': 'Commerce', 'staffer_id': '1015', 'staffer_name': 'Joseph A. Laroski'}, {'agency': 'Commerce', 'staffer_id': '1097', 'staffer_name': 'Peter B. Davidson'}, {'agency': 'Commerce', 'staffer_id': '1100', 'staffer_name': 'David J. Redl'}, {'agency': 'Commerce', 'staffer_id': '1098', 'staffer_name': 'Timothy Gallaudet'}, {'agency': 'Commerce', 'staffer_id': '1105', 'staffer_name': 'Michael Platt Jr.'}, {'agency': 'Commerce', 'staffer_id': '1106', 'staffer_name': 'Gilbert Kaplan'}, {'agency': 'Commerce', 'staffer_id': '1109', 'staffer_name': 'Walter Copan'}, {'agency': 'Commerce', 'staffer_id': '1119', 'staffer_name': 'Richard \\\\Rich\\\\\" Ashooh\"'}, {'agency': 'Commerce', 'staffer_id': '3273', 'staffer_name': 'Vanessa M. Morrone'}, {'agency': 'Commerce', 'staffer_id': '1135', 'staffer_name': 'Jeffrey Kessler'}, {'agency': 'Commerce', 'staffer_id': '1132', 'staffer_name': 'Andrei Iancu'}, {'agency': 'Commerce', 'staffer_id': '1142', 'staffer_name': 'Nazakhtar Nikakhtar'}, {'agency': 'Commerce', 'staffer_id': '1147', 'staffer_name': 'Barry Lee Myers'}, {'agency': 'Commerce', 'staffer_id': '1152', 'staffer_name': 'Neil Jacobs'}, {'agency': 'Commerce', 'staffer_id': '1309', 'staffer_name': 'Vishal J. Amin'}, {'agency': 'Commerce', 'staffer_id': '3934', 'staffer_name': 'Thomas F. Gilman'}, {'agency': 'Commerce', 'staffer_id': '2102', 'staffer_name': 'Philip Lovas'}, {'agency': 'Commerce', 'staffer_id': '3261', 'staffer_name': 'Todd Joseph Abrajano'}, {'agency': 'Commerce', 'staffer_id': '1552', 'staffer_name': 'David Richard Dorey'}, {'agency': 'Commerce', 'staffer_id': '1794', 'staffer_name': 'Kevin Wheeler'}, {'agency': 'Commerce', 'staffer_id': '1778', 'staffer_name': 'Alexander Zemek'}, {'agency': 'Commerce', 'staffer_id': '1780', 'staffer_name': 'Anne C. Teague'}, {'agency': 'Commerce', 'staffer_id': '1781', 'staffer_name': 'Brandon Elsner'}, {'agency': 'Commerce', 'staffer_id': '1783', 'staffer_name': 'Donna Ganoe'}, {'agency': 'Commerce', 'staffer_id': '1784', 'staffer_name': 'Fernando E. Armstrong'}, {'agency': 'Commerce', 'staffer_id': '1785', 'staffer_name': 'George Grandy'}, {'agency': 'Commerce', 'staffer_id': '1786', 'staffer_name': 'James T Christy'}, {'agency': 'Commerce', 'staffer_id': '1787', 'staffer_name': 'James Edelen'}, {'agency': 'Commerce', 'staffer_id': '1788', 'staffer_name': 'Jeff Behler'}, {'agency': 'Commerce', 'staffer_id': '1789', 'staffer_name': 'Jeffrey Nadaner'}, {'agency': 'Commerce', 'staffer_id': '1792', 'staffer_name': \"Kasey O'Connor\"}, {'agency': 'Commerce', 'staffer_id': '1793', 'staffer_name': 'Kelly Ilagan'}, {'agency': 'Commerce', 'staffer_id': '1795', 'staffer_name': 'Marilyn Sanders'}, {'agency': 'Commerce', 'staffer_id': '1782', 'staffer_name': 'Cathy Lacy'}, {'agency': 'Commerce', 'staffer_id': '1791', 'staffer_name': 'Joseph Maybank Howell'}, {'agency': 'Commerce', 'staffer_id': '1798', 'staffer_name': 'Stephen Renna'}, {'agency': 'Commerce', 'staffer_id': '1797', 'staffer_name': 'Michael Walsh'}, {'agency': 'Commerce', 'staffer_id': '2086', 'staffer_name': 'Bradley McKinney'}, {'agency': 'Commerce', 'staffer_id': '2084', 'staffer_name': 'Anthony Foti'}, {'agency': 'Commerce', 'staffer_id': '2087', 'staffer_name': 'Cary Davis-Leizerowski'}, {'agency': 'Commerce', 'staffer_id': '2085', 'staffer_name': 'Beeta Christine Rafiekian'}, {'agency': 'Commerce', 'staffer_id': '2088', 'staffer_name': 'Charles Kolo Rathburn'}, {'agency': 'Commerce', 'staffer_id': '2089', 'staffer_name': 'Christina Delgado'}, {'agency': 'Commerce', 'staffer_id': '2098', 'staffer_name': 'Kathleen Cooney-Porter'}, {'agency': 'Commerce', 'staffer_id': '2099', 'staffer_name': 'Kelsey Kilgore'}, {'agency': 'Commerce', 'staffer_id': '2516', 'staffer_name': 'Caroline J. Potter Dunne'}, {'agency': 'Commerce', 'staffer_id': '2097', 'staffer_name': 'Katherine Armstrong'}, {'agency': 'Commerce', 'staffer_id': '2101', 'staffer_name': 'Nicholas Flocken'}, {'agency': 'Commerce', 'staffer_id': '2103', 'staffer_name': 'Steven Barranca'}, {'agency': 'Commerce', 'staffer_id': '2090', 'staffer_name': 'David Dewhirst'}, {'agency': 'Commerce', 'staffer_id': '2434', 'staffer_name': 'Ari B. Schaffer'}, {'agency': 'Commerce', 'staffer_id': '2448', 'staffer_name': 'Benjamin Haber'}, {'agency': 'Commerce', 'staffer_id': '2639', 'staffer_name': 'Diane Rinaldo'}, {'agency': 'Commerce', 'staffer_id': '2083', 'staffer_name': 'Andrew Lawler'}, {'agency': 'Commerce', 'staffer_id': '3136', 'staffer_name': 'Rebecca Glover'}, {'agency': 'Commerce', 'staffer_id': '3167', 'staffer_name': 'Ryan McDermott'}, {'agency': 'Commerce', 'staffer_id': '3236', 'staffer_name': 'Taylor Jordan'}, {'agency': 'Commerce', 'staffer_id': '3245', 'staffer_name': 'Thomas Brunell'}, {'agency': 'Commerce', 'staffer_id': '3262', 'staffer_name': 'Todd Ricketts'}, {'agency': 'Commerce', 'staffer_id': '3318', 'staffer_name': 'Ali Ahmad'}, {'agency': 'Commerce', 'staffer_id': '3400', 'staffer_name': 'Remmington Curtis'}, {'agency': 'Commerce', 'staffer_id': '3377', 'staffer_name': 'Chris Stanley'}, {'agency': 'Commerce', 'staffer_id': '3825', 'staffer_name': 'Daniel Risko'}, {'agency': 'Commerce', 'staffer_id': '3858', 'staffer_name': 'William Patrick Wilson'}, {'agency': 'Commerce', 'staffer_id': '3862', 'staffer_name': 'Beatrice Elizabeth Brooke'}, {'agency': 'Commerce', 'staffer_id': '3854', 'staffer_name': 'Ryan Sun'}, {'agency': 'Commerce', 'staffer_id': '3974', 'staffer_name': 'Lloyd Wood'}, {'agency': 'Commerce', 'staffer_id': '3977', 'staffer_name': 'Gregory Kalbaugh'}, {'agency': 'Commerce', 'staffer_id': '3969', 'staffer_name': 'Elaine T. Wu'}, {'agency': 'Commerce', 'staffer_id': '3978', 'staffer_name': 'Kirt Gallatin'}, {'agency': 'Commerce', 'staffer_id': '3987', 'staffer_name': 'Katherine Bohnen'}, {'agency': 'Commerce', 'staffer_id': '3989', 'staffer_name': 'Branden Ritchie'}, {'agency': 'Commerce', 'staffer_id': '3985', 'staffer_name': 'Samuel Miller'}, {'agency': 'Commerce', 'staffer_id': '4076', 'staffer_name': 'Jose Jesus Bautista'}, {'agency': 'Commerce', 'staffer_id': '4037', 'staffer_name': 'Mary Hoernig'}, {'agency': 'Commerce', 'staffer_id': '4078', 'staffer_name': 'Clayton Tufts'}, {'agency': 'Commerce', 'staffer_id': '4113', 'staffer_name': 'Ana Maria Guevara'}, {'agency': 'Commerce', 'staffer_id': '539', 'staffer_name': 'Aaron Matthew Willard'}, {'agency': 'Commerce', 'staffer_id': '993', 'staffer_name': 'Ross W. Branson'}, {'agency': 'Commerce', 'staffer_id': '1013', 'staffer_name': 'Clay Kiefaber'}, {'agency': 'Commerce', 'staffer_id': '1000', 'staffer_name': 'John M. Cooney'}, {'agency': 'Commerce', 'staffer_id': '1024', 'staffer_name': 'Zachery T. Michael'}, {'agency': 'Commerce', 'staffer_id': '1032', 'staffer_name': 'Christopher Wayne Oliver'}, {'agency': 'Commerce', 'staffer_id': '1035', 'staffer_name': 'Jon Perdue'}, {'agency': 'Commerce', 'staffer_id': '1049', 'staffer_name': 'Wendy L. Teramoto'}, {'agency': 'Commerce', 'staffer_id': '1051', 'staffer_name': 'Frederick W. Volcansek'}, {'agency': 'Commerce', 'staffer_id': '1790', 'staffer_name': 'Jonathan David Lang'}, {'agency': 'Commerce', 'staffer_id': '1796', 'staffer_name': 'Matthew Joseph Turpin'}, {'agency': 'Commerce', 'staffer_id': '3066', 'staffer_name': 'Mira Radielovic Ricardel'}, {'agency': 'Commerce', 'staffer_id': '1025', 'staffer_name': 'Antori Miranda'}, {'agency': 'Commerce', 'staffer_id': '999', 'staffer_name': 'Earl Comstock'}, {'agency': 'Commerce', 'staffer_id': '1052', 'staffer_name': 'Elizabeth Erin Walsh'}, {'agency': 'Commerce', 'staffer_id': '2529', 'staffer_name': 'Catherine Bellah Keller'}, {'agency': 'Commerce', 'staffer_id': '2082', 'staffer_name': 'Alexander Stoddard'}, {'agency': 'Commerce', 'staffer_id': '988', 'staffer_name': 'Brooke Vosburgh Alexander'}, {'agency': 'Commerce', 'staffer_id': '990', 'staffer_name': 'Dina Beaumont'}, {'agency': 'Commerce', 'staffer_id': '1048', 'staffer_name': 'James Sullivan'}, {'agency': 'Commerce', 'staffer_id': '3857', 'staffer_name': 'Laura Peter'}, {'agency': 'Commerce', 'staffer_id': '1003', 'staffer_name': 'Chris Garcia'}, {'agency': 'Commerce', 'staffer_id': '1037', 'staffer_name': 'John Pughe'}, {'agency': 'Commerce', 'staffer_id': '1042', 'staffer_name': 'Julie Roberts'}, {'agency': 'Commerce', 'staffer_id': '989', 'staffer_name': 'Justin Arlett'}, {'agency': 'Commerce', 'staffer_id': '1053', 'staffer_name': 'Tim C. Wang'}, {'agency': 'Commerce', 'staffer_id': '1045', 'staffer_name': 'Christopher Shipp'}, {'agency': 'Commerce', 'staffer_id': '2100', 'staffer_name': \"Kevin M O'Connell\"}, {'agency': 'Commerce', 'staffer_id': '3450', 'staffer_name': 'Stuart Levenbach'}, {'agency': 'Commerce', 'staffer_id': '872', 'staffer_name': 'Brendan McCommas'}, {'agency': 'Commerce', 'staffer_id': '1018', 'staffer_name': 'Brian Lenihan'}, {'agency': 'Commerce', 'staffer_id': '2440', 'staffer_name': 'Austin Browning'}, {'agency': 'Commerce', 'staffer_id': '1044', 'staffer_name': 'Kelly Rzendzian'}] \n",
      "\n",
      "\n"
     ]
    }
   ],
   "source": [
    "#optional\n",
    "#Check dictAgencyPlusStaffers \n",
    "\n",
    "for k,v in dictAgencyPlusStaffers.items():\n",
    "    if k == '17':#put id agencie\n",
    "        print(\"id > \",k,v[0]['agency'])\n",
    "        print(\"len > \",len(v),'\\n')\n",
    "        print(v,'\\n\\n')\n",
    "    "
   ]
  },
  {
   "cell_type": "markdown",
   "metadata": {},
   "source": [
    "## outside_government_positions.csv"
   ]
  },
  {
   "cell_type": "code",
   "execution_count": 7,
   "metadata": {},
   "outputs": [],
   "source": [
    "#get outside organisations for every officials\n",
    "\n",
    "listStaf = []\n",
    "with open(pwd+'outside_government_positions.csv', newline='') as csvfile:\n",
    "    reader = csv.DictReader(csvfile)\n",
    "    for row in reader:\n",
    "        listStaf.append(row['staffer_id'])\n",
    "    listStaf = list(set(listStaf))"
   ]
  },
  {
   "cell_type": "code",
   "execution_count": 8,
   "metadata": {},
   "outputs": [],
   "source": [
    "def findOutsideOrgStaffer(stafferID):\n",
    "    organisations = []\n",
    "    with open(pwd+'outside_government_positions.csv', newline='') as csvfile:\n",
    "        reader = csv.DictReader(csvfile)\n",
    "        for row in reader:\n",
    "            if row['staffer_id'] == stafferID:\n",
    "                    organisations.append({'orgID':row['organization_id'],\n",
    "                                          'orgName':row['organization_name']})\n",
    "        return(organisations)"
   ]
  },
  {
   "cell_type": "code",
   "execution_count": 9,
   "metadata": {},
   "outputs": [
    {
     "name": "stdout",
     "output_type": "stream",
     "text": [
      "1\n",
      "2\n",
      "3\n",
      "4\n",
      "5\n",
      "6\n",
      "7\n",
      "8\n",
      "9\n",
      "10\n",
      "11\n",
      "12\n",
      "13\n",
      "14\n",
      "15\n",
      "16\n",
      "17\n",
      "18\n",
      "19\n",
      "20\n",
      "21\n",
      "22\n",
      "23\n",
      "24\n",
      "25\n",
      "26\n",
      "27\n",
      "28\n",
      "29\n",
      "30\n",
      "31\n",
      "32\n",
      "33\n",
      "34\n",
      "35\n",
      "36\n",
      "37\n",
      "38\n",
      "39\n",
      "40\n",
      "41\n",
      "42\n",
      "43\n",
      "44\n",
      "45\n",
      "46\n",
      "47\n",
      "48\n",
      "49\n",
      "50\n",
      "51\n",
      "52\n",
      "53\n",
      "54\n",
      "55\n",
      "56\n",
      "57\n",
      "58\n",
      "59\n",
      "60\n",
      "61\n",
      "62\n",
      "63\n",
      "64\n",
      "65\n",
      "66\n",
      "67\n",
      "68\n",
      "69\n",
      "70\n",
      "71\n",
      "72\n",
      "73\n",
      "74\n",
      "75\n",
      "76\n",
      "77\n",
      "78\n",
      "79\n",
      "80\n",
      "81\n",
      "82\n",
      "83\n",
      "84\n",
      "85\n"
     ]
    }
   ],
   "source": [
    "# make big dict \n",
    "# id agencie > list staffers > for every staffers - list org\n",
    "\n",
    "\n",
    "mainDict_WH = {}\n",
    "\n",
    "\n",
    "for numAgency in range(1,86):   #85 agencies\n",
    "    stafListFull = []\n",
    "    numAgency = str(numAgency)\n",
    "    \n",
    "    for stf in dictAgencyPlusStaffers[numAgency]:\n",
    "\n",
    "        if stf['staffer_id'] in listStaf:\n",
    "            org = findOutsideOrgStaffer(stf['staffer_id'])\n",
    "            stf['outsideOrganisations'] = org\n",
    "\n",
    "            stafListFull.append(stf)\n",
    "\n",
    "        else:\n",
    "            org = None\n",
    "            stf['outsideOrganisations'] = org\n",
    "            stafListFull.append(stf)\n",
    "\n",
    "    mainDict_WH[numAgency]=stafListFull\n",
    "    \n",
    "    #show how many done\n",
    "    print(numAgency)\n",
    "#print(mainDict_WH)\n",
    "\n"
   ]
  },
  {
   "cell_type": "code",
   "execution_count": 10,
   "metadata": {},
   "outputs": [],
   "source": [
    "#to json\n",
    "with open('DataForNetwork.json', 'w') as f:\n",
    "    json.dump(mainDict_WH, f, sort_keys=True, indent=4)"
   ]
  }
 ],
 "metadata": {
  "kernelspec": {
   "display_name": "Python 3",
   "language": "python",
   "name": "python3"
  },
  "language_info": {
   "codemirror_mode": {
    "name": "ipython",
    "version": 3
   },
   "file_extension": ".py",
   "mimetype": "text/x-python",
   "name": "python",
   "nbconvert_exporter": "python",
   "pygments_lexer": "ipython3",
   "version": "3.6.9"
  }
 },
 "nbformat": 4,
 "nbformat_minor": 4
}
